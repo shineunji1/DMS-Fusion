{
 "cells": [
  {
   "cell_type": "code",
   "execution_count": null,
   "metadata": {},
   "outputs": [
    {
     "name": "stdout",
     "output_type": "stream",
     "text": [
      "d:\\DMS_Fusion\n"
     ]
    }
   ],
   "source": [
    "import sys\n",
    "import os\n",
    "\n",
    "# 노트북에서는 __file__ 대신 현재 작업 디렉토리 사용\n",
    "current_dir = os.getcwd()\n",
    "parent_dir = os.path.dirname(current_dir)\n",
    "\n",
    "# 상위 디렉토리를 시스템 경로에 추가\n",
    "sys.path.append(parent_dir)\n",
    "\n",
    "# 이제 모듈 불러오기 가능\n",
    "# from moca.moca_validation import DepthValidator\n",
    "\n",
    "print(parent_dir)"
   ]
  },
  {
   "cell_type": "code",
   "execution_count": 1,
   "metadata": {},
   "outputs": [
    {
     "name": "stdout",
     "output_type": "stream",
     "text": [
      "d:\\DMS_Fusion\\backend\n",
      "False\n"
     ]
    }
   ],
   "source": [
    "import os\n",
    "print(os.getcwd())  # 현재 작업 디렉토리 확인\n",
    "print(os.path.exists('depth_anything_v2_metric_hypersim_vits.pth'))  # 파일 존재 여부 확인"
   ]
  },
  {
   "cell_type": "code",
   "execution_count": 1,
   "metadata": {},
   "outputs": [
    {
     "name": "stdout",
     "output_type": "stream",
     "text": [
      "카메라 0 열기 성공\n",
      "프레임 0 읽기 성공\n",
      "프레임 1 읽기 성공\n",
      "프레임 2 읽기 성공\n",
      "프레임 3 읽기 성공\n",
      "프레임 4 읽기 성공\n",
      "카메라 1 열기 성공\n",
      "프레임 0 읽기 실패\n",
      "프레임 1 읽기 실패\n",
      "프레임 2 읽기 실패\n",
      "프레임 3 읽기 실패\n",
      "프레임 4 읽기 실패\n",
      "카메라 2 열기 성공\n",
      "프레임 0 읽기 실패\n",
      "프레임 1 읽기 실패\n",
      "프레임 2 읽기 실패\n",
      "프레임 3 읽기 실패\n",
      "프레임 4 읽기 실패\n"
     ]
    }
   ],
   "source": [
    "import cv2\n",
    "import time\n",
    "\n",
    "# 여러 인덱스 시도\n",
    "for idx in range(3):\n",
    "    cap = cv2.VideoCapture(idx)\n",
    "    if cap.isOpened():\n",
    "        print(f\"카메라 {idx} 열기 성공\")\n",
    "        for i in range(5):\n",
    "            ret, frame = cap.read()\n",
    "            if ret:\n",
    "                print(f\"프레임 {i} 읽기 성공\")\n",
    "            else:\n",
    "                print(f\"프레임 {i} 읽기 실패\")\n",
    "            time.sleep(0.5)\n",
    "        cap.release()\n",
    "    else:\n",
    "        print(f\"카메라 {idx} 열기 실패\")"
   ]
  },
  {
   "cell_type": "code",
   "execution_count": 1,
   "metadata": {},
   "outputs": [
    {
     "name": "stdout",
     "output_type": "stream",
     "text": [
      "기본 백엔드로 시도 중...\n",
      "✅ 기본 백엔드로 성공\n",
      "DirectShow 백엔드로 시도 중...\n",
      "MSMF 백엔드로 시도 중...\n",
      "✅ MSMF 백엔드로 성공\n",
      "VFW 백엔드로 시도 중...\n"
     ]
    }
   ],
   "source": [
    "import cv2\n",
    "\n",
    "# 여러 백엔드 시도\n",
    "backends = [cv2.CAP_ANY, cv2.CAP_DSHOW, cv2.CAP_MSMF, cv2.CAP_VFW]\n",
    "backend_names = [\"기본\", \"DirectShow\", \"MSMF\", \"VFW\"]\n",
    "\n",
    "for i, backend in enumerate(backends):\n",
    "    try:\n",
    "        print(f\"{backend_names[i]} 백엔드로 시도 중...\")\n",
    "        cap = cv2.VideoCapture(0, backend)\n",
    "        if cap.isOpened():\n",
    "            ret, frame = cap.read()\n",
    "            if ret:\n",
    "                print(f\"✅ {backend_names[i]} 백엔드로 성공\")\n",
    "                cv2.imwrite(f\"test_{backend_names[i]}.jpg\", frame)\n",
    "            cap.release()\n",
    "    except Exception as e:\n",
    "        print(f\"❌ {backend_names[i]} 백엔드 오류: {e}\")"
   ]
  }
 ],
 "metadata": {
  "kernelspec": {
   "display_name": "Python 3",
   "language": "python",
   "name": "python3"
  },
  "language_info": {
   "codemirror_mode": {
    "name": "ipython",
    "version": 3
   },
   "file_extension": ".py",
   "mimetype": "text/x-python",
   "name": "python",
   "nbconvert_exporter": "python",
   "pygments_lexer": "ipython3",
   "version": "3.12.9"
  }
 },
 "nbformat": 4,
 "nbformat_minor": 2
}
