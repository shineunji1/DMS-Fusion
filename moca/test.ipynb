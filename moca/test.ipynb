{
 "cells": [
  {
   "cell_type": "code",
   "execution_count": 1,
   "metadata": {},
   "outputs": [
    {
     "name": "stdout",
     "output_type": "stream",
     "text": [
      "Python 버전: 3.12.9\n",
      "운영체제: Windows 11\n",
      "PyTorch 버전: 2.6.0+cu118\n",
      "CUDA 사용 가능: True\n",
      "CUDA 버전: 11.8\n",
      "GPU 개수: 1\n",
      "현재 GPU: 0\n",
      "GPU 이름: NVIDIA GeForce RTX 2070\n",
      "CUDNN 버전: 90100\n",
      "CUDNN 활성화: True\n",
      "할당된 GPU 메모리: 0.00 MB\n",
      "캐시된 GPU 메모리: 0.00 MB\n",
      "GPU 연산 테스트: tensor([1., 2., 3.], device='cuda:0') + tensor([4., 5., 6.], device='cuda:0') = tensor([5., 7., 9.], device='cuda:0')\n",
      "GPU 테스트 성공!\n"
     ]
    }
   ],
   "source": [
    "import torch\n",
    "import sys\n",
    "import platform\n",
    "\n",
    "# 기본 시스템 정보\n",
    "print(f\"Python 버전: {platform.python_version()}\")\n",
    "print(f\"운영체제: {platform.system()} {platform.release()}\")\n",
    "\n",
    "# PyTorch 버전\n",
    "print(f\"PyTorch 버전: {torch.__version__}\")\n",
    "\n",
    "# CUDA 정보\n",
    "print(f\"CUDA 사용 가능: {torch.cuda.is_available()}\")\n",
    "if torch.cuda.is_available():\n",
    "    print(f\"CUDA 버전: {torch.version.cuda}\")\n",
    "    print(f\"GPU 개수: {torch.cuda.device_count()}\")\n",
    "    print(f\"현재 GPU: {torch.cuda.current_device()}\")\n",
    "    print(f\"GPU 이름: {torch.cuda.get_device_name(0)}\")\n",
    "    print(f\"CUDNN 버전: {torch.backends.cudnn.version()}\")\n",
    "    print(f\"CUDNN 활성화: {torch.backends.cudnn.enabled}\")\n",
    "    \n",
    "    # GPU 메모리 정보\n",
    "    print(f\"할당된 GPU 메모리: {torch.cuda.memory_allocated()/1024**2:.2f} MB\")\n",
    "    print(f\"캐시된 GPU 메모리: {torch.cuda.memory_reserved()/1024**2:.2f} MB\")\n",
    "    \n",
    "    # 간단한 GPU 테스트\n",
    "    a = torch.tensor([1.0, 2.0, 3.0], device='cuda')\n",
    "    b = torch.tensor([4.0, 5.0, 6.0], device='cuda')\n",
    "    c = a + b\n",
    "    print(f\"GPU 연산 테스트: {a} + {b} = {c}\")\n",
    "    print(\"GPU 테스트 성공!\")\n",
    "else:\n",
    "    print(\"CUDA를 사용할 수 없습니다. CPU로 실행됩니다.\")\n",
    "    print(\"가능한 원인:\")\n",
    "    print(\"1. NVIDIA GPU가 없거나 드라이버가 설치되지 않음\")\n",
    "    print(\"2. CUDA가 설치되지 않았거나 버전이 맞지 않음\")\n",
    "    print(\"3. PyTorch가 CPU 버전으로 설치됨\")"
   ]
  }
 ],
 "metadata": {
  "kernelspec": {
   "display_name": "Python 3",
   "language": "python",
   "name": "python3"
  },
  "language_info": {
   "codemirror_mode": {
    "name": "ipython",
    "version": 3
   },
   "file_extension": ".py",
   "mimetype": "text/x-python",
   "name": "python",
   "nbconvert_exporter": "python",
   "pygments_lexer": "ipython3",
   "version": "3.12.9"
  }
 },
 "nbformat": 4,
 "nbformat_minor": 2
}
