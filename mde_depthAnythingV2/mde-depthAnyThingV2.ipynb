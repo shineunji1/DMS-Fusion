{
 "cells": [
  {
   "cell_type": "markdown",
   "metadata": {},
   "source": [
    "### 모듈 설치\n",
    "- 아래에 깃 클론 git bash에 치기"
   ]
  },
  {
   "cell_type": "code",
   "execution_count": 2,
   "metadata": {},
   "outputs": [
    {
     "name": "stderr",
     "output_type": "stream",
     "text": [
      "UsageError: Line magic function `%git` not found.\n"
     ]
    }
   ],
   "source": [
    "%git clone https://github.com/DepthAnything/Depth-Anything-V2"
   ]
  },
  {
   "cell_type": "code",
   "execution_count": 2,
   "metadata": {},
   "outputs": [
    {
     "name": "stdout",
     "output_type": "stream",
     "text": [
      "d:\\DMS\\mde-depthAnythingV2\\Depth-Anything-V2\\metric_depth\n"
     ]
    },
    {
     "name": "stderr",
     "output_type": "stream",
     "text": [
      "C:\\Users\\smhrd\\AppData\\Roaming\\Python\\Python312\\site-packages\\IPython\\core\\magics\\osm.py:417: UserWarning: This is now an optional IPython functionality, setting dhist requires you to install the `pickleshare` library.\n",
      "  self.shell.db['dhist'] = compress_dhist(dhist)[-100:]\n"
     ]
    }
   ],
   "source": [
    "%cd Depth-Anything-V2/metric_depth"
   ]
  },
  {
   "cell_type": "code",
   "execution_count": 3,
   "metadata": {},
   "outputs": [
    {
     "data": {
      "text/plain": [
       "'d:\\\\DMS\\\\mde-depthAnythingV2\\\\Depth-Anything-V2\\\\metric_depth'"
      ]
     },
     "execution_count": 3,
     "metadata": {},
     "output_type": "execute_result"
    }
   ],
   "source": [
    "%pwd"
   ]
  },
  {
   "cell_type": "code",
   "execution_count": null,
   "metadata": {},
   "outputs": [
    {
     "name": "stdout",
     "output_type": "stream",
     "text": [
      "Requirement already satisfied: matplotlib in c:\\users\\smhrd\\appdata\\local\\programs\\python\\python312\\lib\\site-packages (from -r requirements.txt (line 1)) (3.10.0)\n",
      "Requirement already satisfied: opencv-python in c:\\users\\smhrd\\appdata\\local\\programs\\python\\python312\\lib\\site-packages (from -r requirements.txt (line 2)) (4.11.0.86)\n",
      "Requirement already satisfied: open3d in c:\\users\\smhrd\\appdata\\local\\programs\\python\\python312\\lib\\site-packages (from -r requirements.txt (line 3)) (0.19.0)\n",
      "Requirement already satisfied: torch in c:\\users\\smhrd\\appdata\\local\\programs\\python\\python312\\lib\\site-packages (from -r requirements.txt (line 4)) (2.6.0)\n",
      "Requirement already satisfied: torchvision in c:\\users\\smhrd\\appdata\\local\\programs\\python\\python312\\lib\\site-packages (from -r requirements.txt (line 5)) (0.21.0)\n",
      "Requirement already satisfied: contourpy>=1.0.1 in c:\\users\\smhrd\\appdata\\local\\programs\\python\\python312\\lib\\site-packages (from matplotlib->-r requirements.txt (line 1)) (1.3.1)\n",
      "Requirement already satisfied: cycler>=0.10 in c:\\users\\smhrd\\appdata\\local\\programs\\python\\python312\\lib\\site-packages (from matplotlib->-r requirements.txt (line 1)) (0.12.1)\n",
      "Requirement already satisfied: fonttools>=4.22.0 in c:\\users\\smhrd\\appdata\\local\\programs\\python\\python312\\lib\\site-packages (from matplotlib->-r requirements.txt (line 1)) (4.55.8)\n",
      "Requirement already satisfied: kiwisolver>=1.3.1 in c:\\users\\smhrd\\appdata\\local\\programs\\python\\python312\\lib\\site-packages (from matplotlib->-r requirements.txt (line 1)) (1.4.8)\n",
      "Requirement already satisfied: numpy>=1.23 in c:\\users\\smhrd\\appdata\\local\\programs\\python\\python312\\lib\\site-packages (from matplotlib->-r requirements.txt (line 1)) (2.2.2)\n",
      "Requirement already satisfied: packaging>=20.0 in c:\\users\\smhrd\\appdata\\roaming\\python\\python312\\site-packages (from matplotlib->-r requirements.txt (line 1)) (24.1)\n",
      "Requirement already satisfied: pillow>=8 in c:\\users\\smhrd\\appdata\\local\\programs\\python\\python312\\lib\\site-packages (from matplotlib->-r requirements.txt (line 1)) (11.1.0)\n",
      "Requirement already satisfied: pyparsing>=2.3.1 in c:\\users\\smhrd\\appdata\\local\\programs\\python\\python312\\lib\\site-packages (from matplotlib->-r requirements.txt (line 1)) (3.2.1)\n",
      "Requirement already satisfied: python-dateutil>=2.7 in c:\\users\\smhrd\\appdata\\roaming\\python\\python312\\site-packages (from matplotlib->-r requirements.txt (line 1)) (2.9.0.post0)\n",
      "Requirement already satisfied: dash>=2.6.0 in c:\\users\\smhrd\\appdata\\local\\programs\\python\\python312\\lib\\site-packages (from open3d->-r requirements.txt (line 3)) (2.18.2)\n",
      "Requirement already satisfied: werkzeug>=3.0.0 in c:\\users\\smhrd\\appdata\\local\\programs\\python\\python312\\lib\\site-packages (from open3d->-r requirements.txt (line 3)) (3.0.6)\n",
      "Requirement already satisfied: flask>=3.0.0 in c:\\users\\smhrd\\appdata\\local\\programs\\python\\python312\\lib\\site-packages (from open3d->-r requirements.txt (line 3)) (3.0.3)\n",
      "Requirement already satisfied: nbformat>=5.7.0 in c:\\users\\smhrd\\appdata\\local\\programs\\python\\python312\\lib\\site-packages (from open3d->-r requirements.txt (line 3)) (5.10.4)\n",
      "Requirement already satisfied: configargparse in c:\\users\\smhrd\\appdata\\local\\programs\\python\\python312\\lib\\site-packages (from open3d->-r requirements.txt (line 3)) (1.7)\n",
      "Requirement already satisfied: ipywidgets>=8.0.4 in c:\\users\\smhrd\\appdata\\local\\programs\\python\\python312\\lib\\site-packages (from open3d->-r requirements.txt (line 3)) (8.1.5)\n",
      "Requirement already satisfied: filelock in c:\\users\\smhrd\\appdata\\local\\programs\\python\\python312\\lib\\site-packages (from torch->-r requirements.txt (line 4)) (3.17.0)\n",
      "Requirement already satisfied: typing-extensions>=4.10.0 in c:\\users\\smhrd\\appdata\\local\\programs\\python\\python312\\lib\\site-packages (from torch->-r requirements.txt (line 4)) (4.12.2)\n",
      "Requirement already satisfied: networkx in c:\\users\\smhrd\\appdata\\local\\programs\\python\\python312\\lib\\site-packages (from torch->-r requirements.txt (line 4)) (3.4.2)\n",
      "Requirement already satisfied: jinja2 in c:\\users\\smhrd\\appdata\\local\\programs\\python\\python312\\lib\\site-packages (from torch->-r requirements.txt (line 4)) (3.1.5)\n",
      "Requirement already satisfied: fsspec in c:\\users\\smhrd\\appdata\\local\\programs\\python\\python312\\lib\\site-packages (from torch->-r requirements.txt (line 4)) (2025.2.0)\n",
      "Requirement already satisfied: setuptools in c:\\users\\smhrd\\appdata\\local\\programs\\python\\python312\\lib\\site-packages (from torch->-r requirements.txt (line 4)) (75.8.0)\n",
      "Requirement already satisfied: sympy==1.13.1 in c:\\users\\smhrd\\appdata\\local\\programs\\python\\python312\\lib\\site-packages (from torch->-r requirements.txt (line 4)) (1.13.1)\n",
      "Requirement already satisfied: mpmath<1.4,>=1.1.0 in c:\\users\\smhrd\\appdata\\local\\programs\\python\\python312\\lib\\site-packages (from sympy==1.13.1->torch->-r requirements.txt (line 4)) (1.3.0)\n",
      "Requirement already satisfied: plotly>=5.0.0 in c:\\users\\smhrd\\appdata\\local\\programs\\python\\python312\\lib\\site-packages (from dash>=2.6.0->open3d->-r requirements.txt (line 3)) (6.0.0)\n",
      "Requirement already satisfied: dash-html-components==2.0.0 in c:\\users\\smhrd\\appdata\\local\\programs\\python\\python312\\lib\\site-packages (from dash>=2.6.0->open3d->-r requirements.txt (line 3)) (2.0.0)\n",
      "Requirement already satisfied: dash-core-components==2.0.0 in c:\\users\\smhrd\\appdata\\local\\programs\\python\\python312\\lib\\site-packages (from dash>=2.6.0->open3d->-r requirements.txt (line 3)) (2.0.0)\n",
      "Requirement already satisfied: dash-table==5.0.0 in c:\\users\\smhrd\\appdata\\local\\programs\\python\\python312\\lib\\site-packages (from dash>=2.6.0->open3d->-r requirements.txt (line 3)) (5.0.0)\n",
      "Requirement already satisfied: importlib-metadata in c:\\users\\smhrd\\appdata\\local\\programs\\python\\python312\\lib\\site-packages (from dash>=2.6.0->open3d->-r requirements.txt (line 3)) (8.6.1)\n",
      "Requirement already satisfied: requests in c:\\users\\smhrd\\appdata\\local\\programs\\python\\python312\\lib\\site-packages (from dash>=2.6.0->open3d->-r requirements.txt (line 3)) (2.32.3)\n",
      "Requirement already satisfied: retrying in c:\\users\\smhrd\\appdata\\local\\programs\\python\\python312\\lib\\site-packages (from dash>=2.6.0->open3d->-r requirements.txt (line 3)) (1.3.4)\n",
      "Requirement already satisfied: nest-asyncio in c:\\users\\smhrd\\appdata\\roaming\\python\\python312\\site-packages (from dash>=2.6.0->open3d->-r requirements.txt (line 3)) (1.6.0)\n",
      "Requirement already satisfied: itsdangerous>=2.1.2 in c:\\users\\smhrd\\appdata\\local\\programs\\python\\python312\\lib\\site-packages (from flask>=3.0.0->open3d->-r requirements.txt (line 3)) (2.2.0)\n",
      "Requirement already satisfied: click>=8.1.3 in c:\\users\\smhrd\\appdata\\local\\programs\\python\\python312\\lib\\site-packages (from flask>=3.0.0->open3d->-r requirements.txt (line 3)) (8.1.8)\n",
      "Requirement already satisfied: blinker>=1.6.2 in c:\\users\\smhrd\\appdata\\local\\programs\\python\\python312\\lib\\site-packages (from flask>=3.0.0->open3d->-r requirements.txt (line 3)) (1.9.0)\n",
      "Requirement already satisfied: comm>=0.1.3 in c:\\users\\smhrd\\appdata\\roaming\\python\\python312\\site-packages (from ipywidgets>=8.0.4->open3d->-r requirements.txt (line 3)) (0.2.2)\n",
      "Requirement already satisfied: ipython>=6.1.0 in c:\\users\\smhrd\\appdata\\roaming\\python\\python312\\site-packages (from ipywidgets>=8.0.4->open3d->-r requirements.txt (line 3)) (8.28.0)\n",
      "Requirement already satisfied: traitlets>=4.3.1 in c:\\users\\smhrd\\appdata\\roaming\\python\\python312\\site-packages (from ipywidgets>=8.0.4->open3d->-r requirements.txt (line 3)) (5.14.3)\n",
      "Requirement already satisfied: widgetsnbextension~=4.0.12 in c:\\users\\smhrd\\appdata\\local\\programs\\python\\python312\\lib\\site-packages (from ipywidgets>=8.0.4->open3d->-r requirements.txt (line 3)) (4.0.13)\n",
      "Requirement already satisfied: jupyterlab-widgets~=3.0.12 in c:\\users\\smhrd\\appdata\\local\\programs\\python\\python312\\lib\\site-packages (from ipywidgets>=8.0.4->open3d->-r requirements.txt (line 3)) (3.0.13)\n",
      "Requirement already satisfied: MarkupSafe>=2.0 in c:\\users\\smhrd\\appdata\\local\\programs\\python\\python312\\lib\\site-packages (from jinja2->torch->-r requirements.txt (line 4)) (3.0.2)\n",
      "Requirement already satisfied: fastjsonschema>=2.15 in c:\\users\\smhrd\\appdata\\local\\programs\\python\\python312\\lib\\site-packages (from nbformat>=5.7.0->open3d->-r requirements.txt (line 3)) (2.21.1)\n",
      "Requirement already satisfied: jsonschema>=2.6 in c:\\users\\smhrd\\appdata\\local\\programs\\python\\python312\\lib\\site-packages (from nbformat>=5.7.0->open3d->-r requirements.txt (line 3)) (4.23.0)\n",
      "Requirement already satisfied: jupyter-core!=5.0.*,>=4.12 in c:\\users\\smhrd\\appdata\\roaming\\python\\python312\\site-packages (from nbformat>=5.7.0->open3d->-r requirements.txt (line 3)) (5.7.2)\n",
      "Requirement already satisfied: six>=1.5 in c:\\users\\smhrd\\appdata\\roaming\\python\\python312\\site-packages (from python-dateutil>=2.7->matplotlib->-r requirements.txt (line 1)) (1.16.0)\n",
      "Requirement already satisfied: colorama in c:\\users\\smhrd\\appdata\\roaming\\python\\python312\\site-packages (from click>=8.1.3->flask>=3.0.0->open3d->-r requirements.txt (line 3)) (0.4.6)\n",
      "Requirement already satisfied: decorator in c:\\users\\smhrd\\appdata\\roaming\\python\\python312\\site-packages (from ipython>=6.1.0->ipywidgets>=8.0.4->open3d->-r requirements.txt (line 3)) (5.1.1)\n",
      "Requirement already satisfied: jedi>=0.16 in c:\\users\\smhrd\\appdata\\roaming\\python\\python312\\site-packages (from ipython>=6.1.0->ipywidgets>=8.0.4->open3d->-r requirements.txt (line 3)) (0.19.1)\n",
      "Requirement already satisfied: matplotlib-inline in c:\\users\\smhrd\\appdata\\roaming\\python\\python312\\site-packages (from ipython>=6.1.0->ipywidgets>=8.0.4->open3d->-r requirements.txt (line 3)) (0.1.7)\n",
      "Requirement already satisfied: prompt-toolkit<3.1.0,>=3.0.41 in c:\\users\\smhrd\\appdata\\roaming\\python\\python312\\site-packages (from ipython>=6.1.0->ipywidgets>=8.0.4->open3d->-r requirements.txt (line 3)) (3.0.48)\n",
      "Requirement already satisfied: pygments>=2.4.0 in c:\\users\\smhrd\\appdata\\roaming\\python\\python312\\site-packages (from ipython>=6.1.0->ipywidgets>=8.0.4->open3d->-r requirements.txt (line 3)) (2.18.0)\n",
      "Requirement already satisfied: stack-data in c:\\users\\smhrd\\appdata\\roaming\\python\\python312\\site-packages (from ipython>=6.1.0->ipywidgets>=8.0.4->open3d->-r requirements.txt (line 3)) (0.6.3)\n",
      "Requirement already satisfied: attrs>=22.2.0 in c:\\users\\smhrd\\appdata\\local\\programs\\python\\python312\\lib\\site-packages (from jsonschema>=2.6->nbformat>=5.7.0->open3d->-r requirements.txt (line 3)) (25.1.0)\n",
      "Requirement already satisfied: jsonschema-specifications>=2023.03.6 in c:\\users\\smhrd\\appdata\\local\\programs\\python\\python312\\lib\\site-packages (from jsonschema>=2.6->nbformat>=5.7.0->open3d->-r requirements.txt (line 3)) (2024.10.1)\n",
      "Requirement already satisfied: referencing>=0.28.4 in c:\\users\\smhrd\\appdata\\local\\programs\\python\\python312\\lib\\site-packages (from jsonschema>=2.6->nbformat>=5.7.0->open3d->-r requirements.txt (line 3)) (0.36.2)\n",
      "Requirement already satisfied: rpds-py>=0.7.1 in c:\\users\\smhrd\\appdata\\local\\programs\\python\\python312\\lib\\site-packages (from jsonschema>=2.6->nbformat>=5.7.0->open3d->-r requirements.txt (line 3)) (0.22.3)\n",
      "Requirement already satisfied: platformdirs>=2.5 in c:\\users\\smhrd\\appdata\\roaming\\python\\python312\\site-packages (from jupyter-core!=5.0.*,>=4.12->nbformat>=5.7.0->open3d->-r requirements.txt (line 3)) (4.3.6)\n",
      "Requirement already satisfied: pywin32>=300 in c:\\users\\smhrd\\appdata\\roaming\\python\\python312\\site-packages (from jupyter-core!=5.0.*,>=4.12->nbformat>=5.7.0->open3d->-r requirements.txt (line 3)) (308)\n",
      "Requirement already satisfied: narwhals>=1.15.1 in c:\\users\\smhrd\\appdata\\local\\programs\\python\\python312\\lib\\site-packages (from plotly>=5.0.0->dash>=2.6.0->open3d->-r requirements.txt (line 3)) (1.25.0)\n",
      "Requirement already satisfied: zipp>=3.20 in c:\\users\\smhrd\\appdata\\local\\programs\\python\\python312\\lib\\site-packages (from importlib-metadata->dash>=2.6.0->open3d->-r requirements.txt (line 3)) (3.21.0)\n",
      "Requirement already satisfied: charset-normalizer<4,>=2 in c:\\users\\smhrd\\appdata\\local\\programs\\python\\python312\\lib\\site-packages (from requests->dash>=2.6.0->open3d->-r requirements.txt (line 3)) (3.4.1)\n",
      "Requirement already satisfied: idna<4,>=2.5 in c:\\users\\smhrd\\appdata\\local\\programs\\python\\python312\\lib\\site-packages (from requests->dash>=2.6.0->open3d->-r requirements.txt (line 3)) (3.10)\n",
      "Requirement already satisfied: urllib3<3,>=1.21.1 in c:\\users\\smhrd\\appdata\\local\\programs\\python\\python312\\lib\\site-packages (from requests->dash>=2.6.0->open3d->-r requirements.txt (line 3)) (2.3.0)\n",
      "Requirement already satisfied: certifi>=2017.4.17 in c:\\users\\smhrd\\appdata\\local\\programs\\python\\python312\\lib\\site-packages (from requests->dash>=2.6.0->open3d->-r requirements.txt (line 3)) (2025.1.31)\n",
      "Requirement already satisfied: parso<0.9.0,>=0.8.3 in c:\\users\\smhrd\\appdata\\roaming\\python\\python312\\site-packages (from jedi>=0.16->ipython>=6.1.0->ipywidgets>=8.0.4->open3d->-r requirements.txt (line 3)) (0.8.4)\n",
      "Requirement already satisfied: wcwidth in c:\\users\\smhrd\\appdata\\roaming\\python\\python312\\site-packages (from prompt-toolkit<3.1.0,>=3.0.41->ipython>=6.1.0->ipywidgets>=8.0.4->open3d->-r requirements.txt (line 3)) (0.2.13)\n",
      "Requirement already satisfied: executing>=1.2.0 in c:\\users\\smhrd\\appdata\\roaming\\python\\python312\\site-packages (from stack-data->ipython>=6.1.0->ipywidgets>=8.0.4->open3d->-r requirements.txt (line 3)) (2.1.0)\n",
      "Requirement already satisfied: asttokens>=2.1.0 in c:\\users\\smhrd\\appdata\\roaming\\python\\python312\\site-packages (from stack-data->ipython>=6.1.0->ipywidgets>=8.0.4->open3d->-r requirements.txt (line 3)) (2.4.1)\n",
      "Requirement already satisfied: pure-eval in c:\\users\\smhrd\\appdata\\roaming\\python\\python312\\site-packages (from stack-data->ipython>=6.1.0->ipywidgets>=8.0.4->open3d->-r requirements.txt (line 3)) (0.2.3)\n",
      "Note: you may need to restart the kernel to use updated packages.\n"
     ]
    },
    {
     "name": "stderr",
     "output_type": "stream",
     "text": [
      "\n",
      "[notice] A new release of pip is available: 24.2 -> 25.0\n",
      "[notice] To update, run: python.exe -m pip install --upgrade pip\n"
     ]
    }
   ],
   "source": [
    "%pip install -r requirements.txt"
   ]
  },
  {
   "cell_type": "markdown",
   "metadata": {},
   "source": [
    "### 모델 코드 작성\n",
    "- checkpoint는 깃허브에서 받아와서 metric_depth안에 checkpoints폴더 만들어서 실행"
   ]
  },
  {
   "cell_type": "code",
   "execution_count": 4,
   "metadata": {},
   "outputs": [
    {
     "name": "stdout",
     "output_type": "stream",
     "text": [
      "Using device: cpu\n",
      "[[4.1216617 4.161504  4.2013454 ... 1.967201  2.001041  2.0348766]\n",
      " [4.1587353 4.2075634 4.2563906 ... 1.9684844 1.9808365 1.9931872]\n",
      " [4.1958084 4.253622  4.3114357 ... 1.9697677 1.960632  1.9514976]\n",
      " ...\n",
      " [2.1676586 2.1832273 2.1987965 ... 1.803188  1.8123293 1.8214694]\n",
      " [2.1743884 2.175673  2.176958  ... 1.798215  1.8125712 1.8269256]\n",
      " [2.1811192 2.168118  2.1551168 ... 1.7932414 1.812813  1.8323824]]\n"
     ]
    }
   ],
   "source": [
    "import cv2\n",
    "import torch\n",
    "import numpy as np\n",
    "import matplotlib.pyplot as plt\n",
    "import ipywidgets as widgets\n",
    "from IPython.display import display, clear_output\n",
    "\n",
    "\n",
    "from depth_anything_v2.dpt import DepthAnythingV2\n",
    "\n",
    "# 모델 설정값\n",
    "model_configs = {\n",
    "    'vits': {'encoder': 'vits', 'features': 64, 'out_channels': [48, 96, 192, 384]},\n",
    "    'vitb': {'encoder': 'vitb', 'features': 128, 'out_channels': [96, 192, 384, 768]},\n",
    "    'vitl': {'encoder': 'vitl', 'features': 256, 'out_channels': [256, 512, 1024, 1024]}\n",
    "}\n",
    "\n",
    "encoder = 'vitl'  # 'vits', 'vitb' 가능\n",
    "dataset = 'hypersim'  # 'hypersim' (실내), 'vkitti' (실외)\n",
    "max_depth = 80 if dataset == \"vkitti\" else 20  # 실내/실외에 따라 max depth 설정\n",
    "\n",
    "# GPU 설정\n",
    "device = torch.device(\"cuda\" if torch.cuda.is_available() else \"cpu\")\n",
    "print(f\"Using device: {device}\")\n",
    "\n",
    "# 모델 로드 (GPU로 이동)\n",
    "model = DepthAnythingV2(**model_configs[encoder], max_depth = max_depth)\n",
    "model.load_state_dict(torch.load(f'checkpoints/depth_anything_v2_metric_{dataset}_{encoder}.pth', map_location=device))\n",
    "model.to(device)\n",
    "model.eval()\n",
    "\n",
    "# 이미지 로드 및 전처리 (BGR -> RGB 변환)\n",
    "raw_img = cv2.imread(\"images/color35.png\")\n",
    "if raw_img is None:\n",
    "    raise ValueError(\"이미지를 불러올 수 없습니다. 경로를 확인하세요.\")\n",
    "\n",
    "raw_img = cv2.cvtColor(raw_img, cv2.COLOR_BGR2RGB)\n",
    "\n",
    "# 깊이 추론\n",
    "with torch.no_grad():\n",
    "    depth = model.infer_image(raw_img)  # 모델 예측\n",
    "\n",
    "print(depth)"
   ]
  },
  {
   "cell_type": "code",
   "execution_count": 6,
   "metadata": {},
   "outputs": [
    {
     "name": "stdout",
     "output_type": "stream",
     "text": [
      "Clicked at (914, 408) -> Depth: 4.09 meters\n",
      "Clicked at (329, 620) -> Depth: 5.62 meters\n",
      "Clicked at (185, 641) -> Depth: 4.44 meters\n",
      "Clicked at (341, 711) -> Depth: 5.83 meters\n",
      "Clicked at (388, 806) -> Depth: 4.43 meters\n",
      "Clicked at (574, 558) -> Depth: 5.23 meters\n",
      "Clicked at (603, 489) -> Depth: 11.88 meters\n",
      "Clicked at (625, 414) -> Depth: 12.04 meters\n",
      "Clicked at (630, 361) -> Depth: 11.74 meters\n",
      "Clicked at (640, 310) -> Depth: 8.67 meters\n",
      "Clicked at (637, 293) -> Depth: 8.79 meters\n",
      "Clicked at (680, 635) -> Depth: 8.51 meters\n",
      "Clicked at (698, 629) -> Depth: 8.55 meters\n",
      "Clicked at (932, 395) -> Depth: 4.07 meters\n",
      "Clicked at (903, 421) -> Depth: 4.07 meters\n",
      "Clicked at (929, 425) -> Depth: 4.04 meters\n",
      "Clicked at (924, 421) -> Depth: 4.05 meters\n",
      "Clicked at (921, 418) -> Depth: 4.07 meters\n",
      "Clicked at (904, 418) -> Depth: 4.07 meters\n",
      "Clicked at (901, 423) -> Depth: 4.07 meters\n",
      "Clicked at (904, 434) -> Depth: 4.06 meters\n"
     ]
    }
   ],
   "source": [
    "def get_depth(event,x,y,flags,param) :\n",
    "    if event == cv2.EVENT_LBUTTONDOWN:\n",
    "        if 0 <= x < depth.shape[1] and 0 <= y < depth.shape[0]:\n",
    "            depth_value = depth[y, x]\n",
    "            print(f\"Clicked at ({x}, {y}) -> Depth: {depth_value:.2f} meters\")\n",
    "\n",
    "cv2.imshow(\"img\",raw_img)\n",
    "cv2.setMouseCallback(\"img\",get_depth)\n",
    "cv2.waitKey(0)\n",
    "cv2.destroyAllWindows()"
   ]
  },
  {
   "cell_type": "code",
   "execution_count": 1,
   "metadata": {},
   "outputs": [],
   "source": [
    "import tensorflow as tf"
   ]
  }
 ],
 "metadata": {
  "kernelspec": {
   "display_name": "Python 3",
   "language": "python",
   "name": "python3"
  },
  "language_info": {
   "codemirror_mode": {
    "name": "ipython",
    "version": 3
   },
   "file_extension": ".py",
   "mimetype": "text/x-python",
   "name": "python",
   "nbconvert_exporter": "python",
   "pygments_lexer": "ipython3",
   "version": "3.12.6"
  }
 },
 "nbformat": 4,
 "nbformat_minor": 2
}
